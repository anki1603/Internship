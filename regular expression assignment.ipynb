{
 "cells": [
  {
   "cell_type": "markdown",
   "id": "22cda236",
   "metadata": {},
   "source": [
    "# Question 1- Write a Python program to replace all occurrences of a space, comma, or dot with a colon.\n",
    "\n"
   ]
  },
  {
   "cell_type": "code",
   "execution_count": 1,
   "id": "1bd1c870",
   "metadata": {},
   "outputs": [
    {
     "name": "stdout",
     "output_type": "stream",
     "text": [
      "python:exercises:php:exercises:\n"
     ]
    }
   ],
   "source": [
    "import re\n",
    "\n",
    "def replace_chars_with_colon(text):\n",
    "    result = re.sub(r'[ ,.]', ':', text)\n",
    "    return result\n",
    "\n",
    "sample_text = 'python exercises,php exercises.'\n",
    "output = replace_chars_with_colon(sample_text)\n",
    "print(output)"
   ]
  },
  {
   "cell_type": "markdown",
   "id": "b0bdb5fa",
   "metadata": {},
   "source": [
    "#Question 2-  Create a dataframe using the dictionary below and remove everything (commas (,), !, XXXX, ;, etc.) from the columns except words.\n",
    " "
   ]
  },
  {
   "cell_type": "code",
   "execution_count": 2,
   "id": "d1735db6",
   "metadata": {},
   "outputs": [],
   "source": [
    "import pandas as pd"
   ]
  },
  {
   "cell_type": "code",
   "execution_count": 3,
   "id": "8b593620",
   "metadata": {},
   "outputs": [],
   "source": [
    "data = {'SUMMARY': ['hello, world!', 'XXXXX test', '123four, five:; six...']}\n",
    "df = pd.DataFrame(data)"
   ]
  },
  {
   "cell_type": "code",
   "execution_count": 4,
   "id": "ce5e05a8",
   "metadata": {},
   "outputs": [],
   "source": [
    "\n",
    "# Remove unwanted characters from the 'SUMMARY' column\n",
    "df['SUMMARY'] = df['SUMMARY'].replace('[^a-zA-Z\\s]', '', regex=True)"
   ]
  },
  {
   "cell_type": "code",
   "execution_count": 5,
   "id": "d4833ea0",
   "metadata": {},
   "outputs": [
    {
     "name": "stdout",
     "output_type": "stream",
     "text": [
      "         SUMMARY\n",
      "0    hello world\n",
      "1     XXXXX test\n",
      "2  four five six\n"
     ]
    }
   ],
   "source": [
    "print(df)"
   ]
  },
  {
   "cell_type": "markdown",
   "id": "b959c74f",
   "metadata": {},
   "source": [
    "#Question 3- Create a function in python to find all words that are at least 4 characters long in a string. The use of the re.compile() method is mandatory. "
   ]
  },
  {
   "cell_type": "code",
   "execution_count": 24,
   "id": "9f982963",
   "metadata": {},
   "outputs": [],
   "source": [
    "import re"
   ]
  },
  {
   "cell_type": "code",
   "execution_count": 25,
   "id": "8d28f7f0",
   "metadata": {},
   "outputs": [
    {
     "name": "stdout",
     "output_type": "stream",
     "text": [
      "['This', 'sample', 'text', 'with', 'some', 'long', 'words']\n"
     ]
    }
   ],
   "source": [
    "\n",
    "\n",
    "def find_words_with_min_length(text):\n",
    "    pattern = re.compile(r'\\b\\w{4,}\\b')\n",
    "    words = pattern.findall(text)\n",
    "    return words\n",
    "\n",
    "# Example usage:\n",
    "input_text = \"This is a sample text with some long words.\"\n",
    "result = find_words_with_min_length(input_text)\n",
    "print(result)\n"
   ]
  },
  {
   "cell_type": "markdown",
   "id": "1586e670",
   "metadata": {},
   "source": [
    "# Question 4- Create a function in python to find all three, four, and five character words in a string. The use of the re.compile() method is mandatory."
   ]
  },
  {
   "cell_type": "code",
   "execution_count": 27,
   "id": "53b52363",
   "metadata": {},
   "outputs": [],
   "source": [
    "import re"
   ]
  },
  {
   "cell_type": "code",
   "execution_count": 28,
   "id": "8021d6b0",
   "metadata": {},
   "outputs": [],
   "source": [
    "def find_words_with_specific_lengths(text):\n",
    "    pattern = re.compile(r'\\b\\w{3,5}\\b')\n",
    "    words = pattern.findall(text)\n",
    "    return words"
   ]
  },
  {
   "cell_type": "code",
   "execution_count": 29,
   "id": "3ca07615",
   "metadata": {},
   "outputs": [
    {
     "name": "stdout",
     "output_type": "stream",
     "text": [
      "['this', 'text', 'with', 'word']\n"
     ]
    }
   ],
   "source": [
    "text = \"this is a sample text with various word lengths.\"\n",
    "result = find_words_with_specific_lengths(text)\n",
    "print(result)\n"
   ]
  },
  {
   "cell_type": "markdown",
   "id": "83cf8836",
   "metadata": {},
   "source": [
    "# Question 5- Create a function in Python to remove the parenthesis in a list of strings. The use of the re.compile() method is mandatory."
   ]
  },
  {
   "cell_type": "code",
   "execution_count": 30,
   "id": "89c1f6ec",
   "metadata": {},
   "outputs": [],
   "source": [
    "import re"
   ]
  },
  {
   "cell_type": "code",
   "execution_count": 31,
   "id": "d4fc8fd9",
   "metadata": {},
   "outputs": [],
   "source": [
    "def remove_parenthesis(text):\n",
    "    result = re.sub(r'\\([^)]*\\)','',text)\n",
    "    return result"
   ]
  },
  {
   "cell_type": "code",
   "execution_count": 32,
   "id": "7e007999",
   "metadata": {},
   "outputs": [
    {
     "name": "stdout",
     "output_type": "stream",
     "text": [
      "example \n",
      "hr@fliprobo \n",
      "github \n",
      "hello \n"
     ]
    }
   ],
   "source": [
    "sample_text = [\"example (.com)\",\"hr@fliprobo (.com)\",\"github (.com)\",\"hello (data science world)\"]\n",
    "for text in sample_text:\n",
    "    output = remove_parentheses(text)\n",
    "    print(output)"
   ]
  },
  {
   "cell_type": "markdown",
   "id": "9a407a5e",
   "metadata": {},
   "source": [
    "# Question 6- Write a python program to remove the parenthesis area from the text stored in the text file using Regular Expression."
   ]
  },
  {
   "cell_type": "code",
   "execution_count": 33,
   "id": "ca3b2d5a",
   "metadata": {},
   "outputs": [],
   "source": [
    "import re"
   ]
  },
  {
   "cell_type": "code",
   "execution_count": 37,
   "id": "b803e286",
   "metadata": {},
   "outputs": [],
   "source": [
    "def remove_parentheses(text):\n",
    "    pattern = r'\\([^)]*\\)'\n",
    "    clean_text = re.sub(pattern, '',text)\n",
    "    return clean_text"
   ]
  },
  {
   "cell_type": "code",
   "execution_count": 39,
   "id": "fc6ca145",
   "metadata": {},
   "outputs": [
    {
     "name": "stdout",
     "output_type": "stream",
     "text": [
      "{\n",
      " \"cells\": [\n",
      "  {\n",
      "   \"cell_type\": \"code\",\n",
      "   \"execution_count\": 1,\n",
      "   \"id\": \"ff7f8a1d\",\n",
      "   \"metadata\": {},\n",
      "   \"outputs\": [\n",
      "    {\n",
      "     \"ename\": \"TypeError\",\n",
      "     \"evalue\": \"can only concatenate str  to str\",\n",
      "     \"output_type\": \"error\",\n",
      "     \"traceback\": [\n",
      "      \"\\u001b[1;31m---------------------------------------------------------------------------\\u001b[0m\",\n",
      "      \"\\u001b[1;31mTypeError\\u001b[0m                                 Traceback \",\n",
      "      \"Cell \\u001b[1;32mIn[1], line 1\\u001b[0m\\n\\u001b[1;32m----> 1\\u001b[0m )\\n\",\n",
      "      \"\\u001b[1;31mTypeError\\u001b[0m: can only concatenate str  to str\"\n",
      "     ]\n",
      "    }\n",
      "   ],\n",
      "   \"source\": [\n",
      "    \")\"\n",
      "   ]\n",
      "  },\n",
      "  {\n",
      "   \"cell_type\": \"code\",\n",
      "   \"execution_count\": null,\n",
      "   \"id\": \"c0892ea9\",\n",
      "   \"metadata\": {},\n",
      "   \"outputs\": [],\n",
      "   \"source\": []\n",
      "  }\n",
      " ],\n",
      " \"metadata\": {\n",
      "  \"kernelspec\": {\n",
      "   \"display_name\": \"Python 3 \",\n",
      "   \"language\": \"python\",\n",
      "   \"name\": \"python3\"\n",
      "  },\n",
      "  \"language_info\": {\n",
      "   \"codemirror_mode\": {\n",
      "    \"name\": \"ipython\",\n",
      "    \"version\": 3\n",
      "   },\n",
      "   \"file_extension\": \".py\",\n",
      "   \"mimetype\": \"text/x-python\",\n",
      "   \"name\": \"python\",\n",
      "   \"nbconvert_exporter\": \"python\",\n",
      "   \"pygments_lexer\": \"ipython3\",\n",
      "   \"version\": \"3.11.3\"\n",
      "  }\n",
      " },\n",
      " \"nbformat\": 4,\n",
      " \"nbformat_minor\": 5\n",
      "}\n",
      "\n"
     ]
    }
   ],
   "source": [
    "with open('untitled1.ipynb','r') as file:\n",
    "    text = file.read()\n",
    "    cleaned_text = remove_parentheses(text)\n",
    "    print(cleaned_text)"
   ]
  },
  {
   "cell_type": "markdown",
   "id": "237c9c41",
   "metadata": {},
   "source": [
    "# Question 7- Write a regular expression in Python to split a string into uppercase letters."
   ]
  },
  {
   "cell_type": "code",
   "execution_count": 43,
   "id": "abb73e49",
   "metadata": {},
   "outputs": [
    {
     "name": "stdout",
     "output_type": "stream",
     "text": [
      "['Importanceof', 'Regular', 'Expressions', 'In', 'Python']\n"
     ]
    }
   ],
   "source": [
    "import re\n",
    "text = \"ImportanceofRegularExpressionsInPython\"\n",
    "result = re.findall(r'[A-Z][a-z]*', text)\n",
    "print(result)"
   ]
  },
  {
   "cell_type": "markdown",
   "id": "9058eee0",
   "metadata": {},
   "source": [
    "# Question 8- Create a function in python to insert spaces between words starting with numbers."
   ]
  },
  {
   "cell_type": "code",
   "execution_count": 54,
   "id": "d0679409",
   "metadata": {},
   "outputs": [],
   "source": [
    "import re\n",
    "\n",
    "def insert_spaces_between_numbers(text):\n",
    "    result = re.sub(r'(\\d)([A-Za-z])', r'\\1 \\2', text)\n",
    "    return result\n"
   ]
  },
  {
   "cell_type": "code",
   "execution_count": 55,
   "id": "69127b70",
   "metadata": {},
   "outputs": [
    {
     "name": "stdout",
     "output_type": "stream",
     "text": [
      "RegularExpression1 IsAn2 ImportantTopic3 InPython\n"
     ]
    }
   ],
   "source": [
    "text = \"RegularExpression1IsAn2ImportantTopic3InPython\"\n",
    "output = insert_spaces_between_numbers(text)\n",
    "print(output)"
   ]
  },
  {
   "cell_type": "markdown",
   "id": "35067363",
   "metadata": {},
   "source": [
    "# Question 9- Create a function in python to insert spaces between words starting with capital letters or with numbers."
   ]
  },
  {
   "cell_type": "code",
   "execution_count": 48,
   "id": "8a8af433",
   "metadata": {},
   "outputs": [],
   "source": [
    "import re"
   ]
  },
  {
   "cell_type": "code",
   "execution_count": 53,
   "id": "ebe5c5d0",
   "metadata": {},
   "outputs": [
    {
     "name": "stdout",
     "output_type": "stream",
     "text": [
      "R egularE xpression1I sA n2I mportantT opic3I nP ython\n"
     ]
    }
   ],
   "source": [
    "def insert_spaces_between_capital_or_numbers(text):\n",
    "    result = re.sub(r'(\\d|[A-Z])([a-z])', r'\\1 \\2', text)\n",
    "    return result\n",
    "\n",
    "text = \"RegularExpression1IsAn2ImportantTopic3InPython\"\n",
    "output = insert_spaces_between_capital_or_numbers(text)\n",
    "print(output)\n"
   ]
  },
  {
   "cell_type": "markdown",
   "id": "f7db013b",
   "metadata": {},
   "source": [
    "# Question 10- Use the github link below to read the data and create a dataframe. After creating the dataframe extract the first 6 letters of each country and store in the dataframe under a new column called first_five_letters."
   ]
  },
  {
   "cell_type": "code",
   "execution_count": 75,
   "id": "bef98928",
   "metadata": {},
   "outputs": [
    {
     "name": "stdout",
     "output_type": "stream",
     "text": [
      "       Country          Region  Happiness Rank  Happiness Score  \\\n",
      "0  Switzerland  Western Europe               1            7.587   \n",
      "1      Iceland  Western Europe               2            7.561   \n",
      "2      Denmark  Western Europe               3            7.527   \n",
      "3       Norway  Western Europe               4            7.522   \n",
      "4       Canada   North America               5            7.427   \n",
      "\n",
      "   Standard Error  Economy (GDP per Capita)   Family  \\\n",
      "0         0.03411                   1.39651  1.34951   \n",
      "1         0.04884                   1.30232  1.40223   \n",
      "2         0.03328                   1.32548  1.36058   \n",
      "3         0.03880                   1.45900  1.33095   \n",
      "4         0.03553                   1.32629  1.32261   \n",
      "\n",
      "   Health (Life Expectancy)  Freedom  Trust (Government Corruption)  \\\n",
      "0                   0.94143  0.66557                        0.41978   \n",
      "1                   0.94784  0.62877                        0.14145   \n",
      "2                   0.87464  0.64938                        0.48357   \n",
      "3                   0.88521  0.66973                        0.36503   \n",
      "4                   0.90563  0.63297                        0.32957   \n",
      "\n",
      "   Generosity  Dystopia Residual first_five_letters  \n",
      "0     0.29678            2.51738              Switz  \n",
      "1     0.43630            2.70201              Icela  \n",
      "2     0.34139            2.49204              Denma  \n",
      "3     0.34699            2.46531              Norwa  \n",
      "4     0.45811            2.45176              Canad  \n"
     ]
    }
   ],
   "source": [
    "import pandas as pd\n",
    "\n",
    "# GitHub link to the dataset\n",
    "github_link = 'https://raw.githubusercontent.com/dsrscientist/DSData/master/happiness_score_dataset.csv'\n",
    "\n",
    "# Read the data into a DataFrame\n",
    "df = pd.read_csv(github_link)\n",
    "\n",
    "# Extract the first 6 letters of each country and store in a new column 'first_five_letters'\n",
    "df['first_five_letters'] = df['Country'].str[:5]\n",
    "\n",
    "# Display the DataFrame with the new column\n",
    "print(df.head())\n"
   ]
  },
  {
   "cell_type": "markdown",
   "id": "acf1b89e",
   "metadata": {},
   "source": [
    "# Question 11- Write a Python program to match a string that contains only upper and lowercase letters, numbers, and underscores."
   ]
  },
  {
   "cell_type": "code",
   "execution_count": 57,
   "id": "b8886cd3",
   "metadata": {},
   "outputs": [],
   "source": [
    "import re\n",
    "def contains_only_valid_characters(text):\n",
    "    return re.match(r'^[A-Za-z0-9_]+$',text)is not None"
   ]
  },
  {
   "cell_type": "code",
   "execution_count": 58,
   "id": "60aec750",
   "metadata": {},
   "outputs": [
    {
     "name": "stdout",
     "output_type": "stream",
     "text": [
      "True\n"
     ]
    }
   ],
   "source": [
    "text = \"valid_string_123\"\n",
    "result = contains_only_valid_characters(text)\n",
    "print(result)"
   ]
  },
  {
   "cell_type": "markdown",
   "id": "041fc18b",
   "metadata": {},
   "source": [
    "# Question 12- Write a Python program where a string will start with a specific number. "
   ]
  },
  {
   "cell_type": "code",
   "execution_count": 67,
   "id": "870f780d",
   "metadata": {},
   "outputs": [
    {
     "name": "stdout",
     "output_type": "stream",
     "text": [
      "True\n"
     ]
    }
   ],
   "source": [
    "import re\n",
    "\n",
    "def starts_with_specific_number(text, number):\n",
    "    pattern = re.compile(r'^' + re.escape(str(number)))\n",
    "    return bool(pattern.match(text))\n",
    "\n",
    "text = \"42 is the answer.\"\n",
    "number = 42\n",
    "result = starts_with_specific_number(text, number)\n",
    "print(result)\n",
    "\n"
   ]
  },
  {
   "cell_type": "markdown",
   "id": "d08b0add",
   "metadata": {},
   "source": [
    "# Question 13- Write a Python program to remove leading zeros from an IP address"
   ]
  },
  {
   "cell_type": "code",
   "execution_count": 68,
   "id": "daf37428",
   "metadata": {},
   "outputs": [
    {
     "name": "stdout",
     "output_type": "stream",
     "text": [
      "192.1.2.3\n"
     ]
    }
   ],
   "source": [
    "import re\n",
    "\n",
    "def remove_leading_zeros_from_ip(ip):\n",
    "    result = re.sub(r'(\\b0+(\\d))',r'\\2',ip)\n",
    "    return result\n",
    "\n",
    "ip_address = \"192.001.002.003\"\n",
    "output = remove_leading_zeros_from_ip(ip_address)\n",
    "print(output)"
   ]
  },
  {
   "cell_type": "markdown",
   "id": "b175341c",
   "metadata": {},
   "source": [
    "# Question 14- Write a regular expression in python to match a date string in the form of Month name followed by day number and year stored in a text file."
   ]
  },
  {
   "cell_type": "code",
   "execution_count": 74,
   "id": "bc9b0e50",
   "metadata": {},
   "outputs": [
    {
     "name": "stdout",
     "output_type": "stream",
     "text": [
      "August 15th 1947\n"
     ]
    }
   ],
   "source": [
    "import re\n",
    "\n",
    "def extract_date_from_text(text):\n",
    "    match = re.search(r'([A-Z][a-z]+ \\d{1,2}[a-z]* \\d{4})', text)\n",
    "    if match:\n",
    "        return match.group(1)\n",
    "    else:\n",
    "        return None\n",
    "\n",
    "text = \"On August 15th 1947 that India was declared independent.\"\n",
    "result = extract_date_from_text(text)\n",
    "print(result)"
   ]
  },
  {
   "cell_type": "markdown",
   "id": "c0e2b93a",
   "metadata": {},
   "source": [
    "# Question 15- Write a Python program to search some literals strings in a string. "
   ]
  },
  {
   "cell_type": "code",
   "execution_count": 76,
   "id": "32ae516e",
   "metadata": {},
   "outputs": [
    {
     "name": "stdout",
     "output_type": "stream",
     "text": [
      "['fox', 'dog']\n"
     ]
    }
   ],
   "source": [
    "import re\n",
    "def search_literals_in_text(text, words_to_search):\n",
    "    result = re.findall(r'\\b(?:'+ '|'.join(re.escape(word)for word in words_to_search)+r')\\b', text)\n",
    "    return result\n",
    "\n",
    "text = 'the quick brown fox jumps over the lazy dog.'\n",
    "words_to_search = ['fox','dog','horse']\n",
    "result = search_literals_in_text(text,words_to_search)\n",
    "print(result)"
   ]
  },
  {
   "cell_type": "markdown",
   "id": "db6fed26",
   "metadata": {},
   "source": [
    "# Question 16- Write a Python program to search a literals string in a string and also find the location within the original string where the pattern occurs"
   ]
  },
  {
   "cell_type": "code",
   "execution_count": 77,
   "id": "3d0f64f0",
   "metadata": {},
   "outputs": [],
   "source": [
    "import re\n",
    "\n",
    "def search_literal_in_text_with_positions(text,word_to_search):\n",
    "    result = [(match.group(0),match.start()) for match in re.finditer(re.escape(word_to_search), text)]\n",
    "    return result"
   ]
  },
  {
   "cell_type": "code",
   "execution_count": 78,
   "id": "68d19126",
   "metadata": {},
   "outputs": [
    {
     "name": "stdout",
     "output_type": "stream",
     "text": [
      "[('fox', 16)]\n"
     ]
    }
   ],
   "source": [
    "text = 'the quick brown fox jumps over the lazy dog.'\n",
    "word_to_search = 'fox'\n",
    "result = search_literal_in_text_with_positions(text,word_to_search)\n",
    "print(result)"
   ]
  },
  {
   "cell_type": "markdown",
   "id": "e4c52d36",
   "metadata": {},
   "source": [
    "# Question 17- Write a Python program to find the substrings within a string."
   ]
  },
  {
   "cell_type": "code",
   "execution_count": 79,
   "id": "894ce423",
   "metadata": {},
   "outputs": [
    {
     "name": "stdout",
     "output_type": "stream",
     "text": [
      "['exercises', 'exercises', 'exercises']\n"
     ]
    }
   ],
   "source": [
    "import re\n",
    "\n",
    "def find_substrings_in_text(text,pattern):\n",
    "    result = re.findall(pattern,text)\n",
    "    return result\n",
    "\n",
    "text = 'python exercises,PHP exercises,c# exercises'\n",
    "pattern = 'exercises'\n",
    "result = find_substrings_in_text(text,pattern)\n",
    "print(result)"
   ]
  },
  {
   "cell_type": "markdown",
   "id": "f6781b41",
   "metadata": {},
   "source": [
    "# Question 18- Write a Python program to find the occurrence and position of the substrings within a string."
   ]
  },
  {
   "cell_type": "code",
   "execution_count": 81,
   "id": "ef70f531",
   "metadata": {},
   "outputs": [
    {
     "name": "stdout",
     "output_type": "stream",
     "text": [
      "[('exercises', 7), ('exercises', 22), ('exercises', 36)]\n"
     ]
    }
   ],
   "source": [
    "import re\n",
    "\n",
    "def find_occurrences_and_positions(text,substring):\n",
    "    result = [(match.group(0), match.start()) for match in re.finditer(re.escape(substring), text)]\n",
    "    return result\n",
    "\n",
    "text = 'python exercises, PHP exercises, c# exercises'\n",
    "substring = 'exercises'\n",
    "result = find_occurrences_and_positions(text, substring)\n",
    "print(result)"
   ]
  },
  {
   "cell_type": "markdown",
   "id": "cf9e5788",
   "metadata": {},
   "source": [
    "# Question 19- Write a Python program to convert a date of yyyy-mm-dd format to dd-mm-yyyy format."
   ]
  },
  {
   "cell_type": "code",
   "execution_count": 82,
   "id": "2b256904",
   "metadata": {},
   "outputs": [],
   "source": [
    "import re\n"
   ]
  },
  {
   "cell_type": "code",
   "execution_count": 83,
   "id": "01b5bbcf",
   "metadata": {},
   "outputs": [
    {
     "name": "stdout",
     "output_type": "stream",
     "text": [
      "03-10-2022\n"
     ]
    }
   ],
   "source": [
    "def convert_date_format(input_date):\n",
    "    result = re.sub(r'(\\d{4})-(\\d{2})-(\\d{2})',r'\\3-\\2-\\1', input_date)\n",
    "    return result\n",
    "\n",
    "date = \"2022-10-03\"\n",
    "output = convert_date_format(date)\n",
    "print(output)"
   ]
  },
  {
   "cell_type": "markdown",
   "id": "c20dcb76",
   "metadata": {},
   "source": [
    "# Question 20- Create a function in python to find all decimal numbers with a precision of 1 or 2 in a string. The use of the re.compile() method is mandatory."
   ]
  },
  {
   "cell_type": "code",
   "execution_count": 1,
   "id": "de13a0ac",
   "metadata": {},
   "outputs": [
    {
     "name": "stdout",
     "output_type": "stream",
     "text": [
      "['01.12', '145.8', '3.01', '27.25', '0.25']\n"
     ]
    }
   ],
   "source": [
    "import re\n",
    "\n",
    "def find_decimal_numbers_with_precision(text):\n",
    "    pattern = re.compile(r'\\b\\d+\\.\\d{1,2}\\b')\n",
    "    numbers = pattern.findall(text)\n",
    "    return numbers\n",
    "\n",
    "text = \"01.12 0132.123 2.31875 145.8 3.01 27.25 0.25\"\n",
    "result = find_decimal_numbers_with_precision(text)\n",
    "print(result)\n"
   ]
  },
  {
   "cell_type": "markdown",
   "id": "32cf3fde",
   "metadata": {},
   "source": [
    "# Question 21- Write a Python program to separate and print the numbers and their position of a given string."
   ]
  },
  {
   "cell_type": "code",
   "execution_count": 2,
   "id": "ec784423",
   "metadata": {},
   "outputs": [
    {
     "name": "stdout",
     "output_type": "stream",
     "text": [
      "[('123', 29), ('456', 37)]\n"
     ]
    }
   ],
   "source": [
    "import re\n",
    "\n",
    "def find_numbers_and_positions(text):\n",
    "    result = [(match.group(0), match.start()) for match in re.finditer(r'\\d+', text)]\n",
    "    return result\n",
    "\n",
    "text = \"sample text with nubers like 123 and 456.\"\n",
    "result = find_numbers_and_positions(text)\n",
    "print(result)"
   ]
  },
  {
   "cell_type": "markdown",
   "id": "bbd8be19",
   "metadata": {},
   "source": [
    "# Question 22- Write a regular expression in python program to extract maximum/largest numeric value from a string."
   ]
  },
  {
   "cell_type": "code",
   "execution_count": 6,
   "id": "e88be04e",
   "metadata": {},
   "outputs": [
    {
     "name": "stdout",
     "output_type": "stream",
     "text": [
      "950\n"
     ]
    }
   ],
   "source": [
    "import re\n",
    "\n",
    "def extract_largest_numeric_value(text):\n",
    "    numeric_values = re.findall(r'\\d+', text)\n",
    "    if numeric_values:\n",
    "        return max(map(int, numeric_values))\n",
    "    else:\n",
    "        return None\n",
    "\n",
    "text = \"my marks in each semester are: 947,896,926,524,734,950,642\"\n",
    "result = extract_largest_numeric_value(text)\n",
    "print(result)\n"
   ]
  },
  {
   "cell_type": "markdown",
   "id": "b9cd7658",
   "metadata": {},
   "source": [
    "# Question 23- Create a function in python to insert spaces between words starting with capital letters."
   ]
  },
  {
   "cell_type": "code",
   "execution_count": 12,
   "id": "f90a71e0",
   "metadata": {},
   "outputs": [
    {
     "name": "stdout",
     "output_type": "stream",
     "text": [
      "regular Expression Is A N Important Topic In Python\n"
     ]
    }
   ],
   "source": [
    "import re\n",
    "\n",
    "def insert_spaces_between_capital_letters(text):\n",
    "    result = re.sub(r'(\\B[A-Z])', r' \\1', text)\n",
    "    return result\n",
    "\n",
    "text = \"regularExpressionIsANImportantTopicInPython\"\n",
    "output = insert_spaces_between_capital_letters(text)\n",
    "print(output)\n"
   ]
  },
  {
   "cell_type": "markdown",
   "id": "9e07a0c5",
   "metadata": {},
   "source": [
    "# Question 24- Python regex to find sequences of one upper case letter followed by lower case letters"
   ]
  },
  {
   "cell_type": "code",
   "execution_count": 13,
   "id": "e98903da",
   "metadata": {},
   "outputs": [
    {
     "name": "stdout",
     "output_type": "stream",
     "text": [
      "['Aa', 'Bb', '1', 'Cc', 'Dd', '2', 'Ee', 'Ff', '3']\n"
     ]
    }
   ],
   "source": [
    "import re\n",
    "\n",
    "text = \"AaBb1CcDd2EeFf3\"\n",
    "result = re.findall(r'[A-Z][a-z]*|[0-9]', text)\n",
    "print(result)"
   ]
  },
  {
   "cell_type": "markdown",
   "id": "b516eb11",
   "metadata": {},
   "source": [
    "# Question 25- Write a Python program to remove continuous duplicate words from Sentence using Regular Expression."
   ]
  },
  {
   "cell_type": "code",
   "execution_count": 17,
   "id": "f24d912b",
   "metadata": {},
   "outputs": [
    {
     "name": "stdout",
     "output_type": "stream",
     "text": [
      "hello world\n"
     ]
    }
   ],
   "source": [
    "import re\n",
    "\n",
    "def remove_continuous_duplicates(text):\n",
    "    result = re.sub(r'\\b(\\w+)\\s+\\1\\b', r'\\1', text)\n",
    "    return result\n",
    "\n",
    "text = \"hello hello world world\"\n",
    "output = remove_continuous_duplicates(text)\n",
    "print(output)\n"
   ]
  },
  {
   "cell_type": "markdown",
   "id": "c4d92a61",
   "metadata": {},
   "source": [
    "# Question 26-  Write a python program using RegEx to accept string ending with alphanumeric character."
   ]
  },
  {
   "cell_type": "code",
   "execution_count": 18,
   "id": "0dc2aef9",
   "metadata": {},
   "outputs": [
    {
     "name": "stdout",
     "output_type": "stream",
     "text": [
      "True\n"
     ]
    }
   ],
   "source": [
    "import re\n",
    "\n",
    "def ends_with_alphanumeric(text):\n",
    "    return re.match(r'.*[a-zA-Z0-9]$', text) is not None\n",
    "\n",
    "text = \"hello123\"\n",
    "result = ends_with_alphanumeric(text)\n",
    "print(result)"
   ]
  },
  {
   "cell_type": "markdown",
   "id": "f354e849",
   "metadata": {},
   "source": [
    "# Question 27-Write a python program using RegEx to extract the hashtags."
   ]
  },
  {
   "cell_type": "code",
   "execution_count": 19,
   "id": "dde6bdd7",
   "metadata": {},
   "outputs": [
    {
     "name": "stdout",
     "output_type": "stream",
     "text": [
      "['#Doltiwal', '#xyzabc', '#demonetization']\n"
     ]
    }
   ],
   "source": [
    "import re\n",
    "\n",
    "def extract_hastags(text):\n",
    "    hashtags = re.findall(r'#\\w+', text)\n",
    "    return hashtags\n",
    "\n",
    "text = \"RT @kapil_kaushik: #Doltiwal I mean #xyzabc is 'hurt' by #demonetization as the same has rendered Useless \"\n",
    "result = extract_hastags(text)\n",
    "print(result)"
   ]
  },
  {
   "cell_type": "markdown",
   "id": "43ce43cb",
   "metadata": {},
   "source": [
    "# Question 28- Write a python program using RegEx to remove <U+..> like symbols\n",
    "Check the below sample text, there are strange symbols something of the sort <U+..> all over the place. You need to come up with a general Regex expression that will cover all such symbols\n"
   ]
  },
  {
   "cell_type": "code",
   "execution_count": 20,
   "id": "998e8ffc",
   "metadata": {},
   "outputs": [
    {
     "name": "stdout",
     "output_type": "stream",
     "text": [
      "@jags123456 bharat band on28??<ed><ed>Those who are protesting #demonetization are all different party leaders\n"
     ]
    }
   ],
   "source": [
    "import re\n",
    "\n",
    "def remove_u_symbols(text):\n",
    "    result = re.sub(r'<u\\+[\\da-fA-F]+>','',text)\n",
    "    return result\n",
    "\n",
    "text = \"@jags123456 bharat band on28??<ed><u+00A0><u+00bd><ed><u+00b8><u+0082>Those who are protesting #demonetization are all different party leaders\"\n",
    "output = remove_u_symbols(text)\n",
    "print(output)"
   ]
  },
  {
   "cell_type": "markdown",
   "id": "d0d9f9b6",
   "metadata": {},
   "source": [
    "# Question 30- Create a function in python to remove all words from a string of length between 2 and 4.\n",
    "The use of the re.compile() method is mandatory.\n"
   ]
  },
  {
   "cell_type": "code",
   "execution_count": 24,
   "id": "14bfec0a",
   "metadata": {},
   "outputs": [
    {
     "name": "stdout",
     "output_type": "stream",
     "text": [
      " following example creates  ArrayList  a capacity   elements. 4 elements   added   ArrayList   ArrayList  trimmed accordingly.\n"
     ]
    }
   ],
   "source": [
    "import re\n",
    "\n",
    "def remove_words_with_length_between_2_and_4(text):\n",
    "    # Remove words with lengths between 2 and 4\n",
    "    pattern = re.compile(r'\\b\\w{2,4}\\b')\n",
    "    result = pattern.sub('', text)\n",
    "    return result\n",
    "\n",
    "text = \"The following example creates an ArrayList with a capacity of 50 elements. 4 elements are then added to the ArrayList and the ArrayList is trimmed accordingly.\"\n",
    "output = remove_words_with_length_between_2_and_4(text)\n",
    "print(output)\n"
   ]
  },
  {
   "cell_type": "code",
   "execution_count": null,
   "id": "bdf81e17",
   "metadata": {},
   "outputs": [],
   "source": []
  }
 ],
 "metadata": {
  "kernelspec": {
   "display_name": "Python 3 (ipykernel)",
   "language": "python",
   "name": "python3"
  },
  "language_info": {
   "codemirror_mode": {
    "name": "ipython",
    "version": 3
   },
   "file_extension": ".py",
   "mimetype": "text/x-python",
   "name": "python",
   "nbconvert_exporter": "python",
   "pygments_lexer": "ipython3",
   "version": "3.11.3"
  }
 },
 "nbformat": 4,
 "nbformat_minor": 5
}
